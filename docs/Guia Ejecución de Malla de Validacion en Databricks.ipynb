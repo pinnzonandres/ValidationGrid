{
 "cells": [
  {
   "cell_type": "markdown",
   "metadata": {
    "application/vnd.databricks.v1+cell": {
     "cellMetadata": {
      "byteLimit": 2048000,
      "rowLimit": 10000
     },
     "inputWidgets": {},
     "nuid": "904238eb-b66d-4aaa-874d-ee0ecf4a0c4b",
     "showTitle": false,
     "title": ""
    }
   },
   "source": [
    "# Guia Ejecución Malla de validación \n",
    "\n",
    "El siguiente notebook explica los pasos a seguir para poder realizar la validación del conjunto de datos sincronizado desde el Aplicativo RIT. \n",
    "\n",
    "## Requisitos para ejecutar el notebook\n",
    "Antes de ejecutar el siguiente notebook es necesario contar con los siguientes elementos:\n",
    "1. Tener acceso al Repo en Databricks que contiene el proyecto de a Malla de Validación actualizado a su ultima versión. \n",
    "2. Contar con el número identificador de la encuesta sobre la que se va a realizar la validación.\n",
    "3. Verificar que la malla de validación de tipo json relativa a la encuesta a validar se encuentre dentro del Repo.\n",
    "4. Contar con el Token de acceso al API de RIT que permite descargar los datos sincronizados.\n"
   ]
  },
  {
   "cell_type": "code",
   "execution_count": null,
   "metadata": {
    "application/vnd.databricks.v1+cell": {
     "cellMetadata": {
      "byteLimit": 2048000,
      "rowLimit": 10000
     },
     "inputWidgets": {},
     "nuid": "30a8d460-a561-4ca0-9346-74fca1028dfd",
     "showTitle": false,
     "title": ""
    }
   },
   "outputs": [],
   "source": [
    "# Carga de Librerias\n",
    "import sys\n",
    "from pyspark.sql import functions as F\n",
    "from pyspark.sql import types as T\n",
    "from delta import tables as DT\n",
    "from datetime import  datetime\n",
    "from pyspark.sql import SparkSession\n",
    "import pandas as pd\n",
    "import warnings\n",
    "from pandas.core.common import SettingWithCopyWarning\n",
    "warnings.simplefilter(action='ignore', category=SettingWithCopyWarning)"
   ]
  },
  {
   "cell_type": "markdown",
   "metadata": {
    "application/vnd.databricks.v1+cell": {
     "cellMetadata": {
      "byteLimit": 2048000,
      "rowLimit": 10000
     },
     "inputWidgets": {},
     "nuid": "37162eb5-1bc6-4bb4-ad74-5a59f3b8d3aa",
     "showTitle": false,
     "title": ""
    }
   },
   "source": [
    "## Ejecución del Notebook\n",
    "En primer lugar es necesario definir los parámetros que nos van a permitir realizar la validación de la información, nos referimos al **id de la encuesta, token de acceso y la ruta que direcciona al REPO**"
   ]
  },
  {
   "cell_type": "code",
   "execution_count": null,
   "metadata": {
    "application/vnd.databricks.v1+cell": {
     "cellMetadata": {
      "byteLimit": 2048000,
      "rowLimit": 10000
     },
     "inputWidgets": {},
     "nuid": "137097e2-4dd9-4798-9267-f863d9b279ba",
     "showTitle": false,
     "title": ""
    }
   },
   "outputs": [],
   "source": [
    "# Definición de Parámetros\n",
    "\n",
    "## ID de la Encuesta\n",
    "id_encuesta = \"\" # ¡Indicar el id!\n",
    "\n",
    "## Token de Acceso\n",
    "token = \"\" # ¡Añadir el token de acceso! Unicamente la llave\n",
    "\n",
    "## Ruta del Repo\n",
    "ruta = \"/Workspace/Repos/...\" # ¡Completar con la ruta de acceso al Repo almacenado en Databricks"
   ]
  },
  {
   "cell_type": "markdown",
   "metadata": {
    "application/vnd.databricks.v1+cell": {
     "cellMetadata": {
      "byteLimit": 2048000,
      "rowLimit": 10000
     },
     "inputWidgets": {},
     "nuid": "907940d6-2775-4d31-8762-3ec7d52f7692",
     "showTitle": false,
     "title": ""
    }
   },
   "source": [
    "## Acceso al Repo con el proyecto desde el Notebook\n",
    "Una vez se han definido los parámetros es necesario crear una conexión del notebook con el repositorio para que este pueda utilizar las funciones definidas dentro del proyecto"
   ]
  },
  {
   "cell_type": "code",
   "execution_count": null,
   "metadata": {
    "application/vnd.databricks.v1+cell": {
     "cellMetadata": {
      "byteLimit": 2048000,
      "rowLimit": 10000
     },
     "inputWidgets": {},
     "nuid": "391d0b06-2db8-4b16-b936-9520a59251cb",
     "showTitle": false,
     "title": ""
    }
   },
   "outputs": [],
   "source": [
    "## Anexar a la ruta de sistema del Notebook el repositorio\n",
    "sys.path.append(ruta)\n",
    "\n",
    "## Cargue de la libreria creada en el proyecto\n",
    "from validar_datos import validar_datos"
   ]
  },
  {
   "cell_type": "markdown",
   "metadata": {
    "application/vnd.databricks.v1+cell": {
     "cellMetadata": {
      "byteLimit": 2048000,
      "rowLimit": 10000
     },
     "inputWidgets": {},
     "nuid": "bd0f1910-109d-4a8e-87c3-26140a17e048",
     "showTitle": false,
     "title": ""
    }
   },
   "source": [
    "## Ejecución de la validación de datos\n",
    "Una vez el repositorio está conectado al notebook y se han definido los parámetros necesarios para la validación, se procede a ejecutar la función que valida esta información, el resultado de la función serán tres objetos que son los siguientes:\n",
    "- `dataframe`: DataFrame que contiene todo el conjunto de datos sobre el que se va a realizar la validación\n",
    "- `validos`: DataFrame que contiene el indice de aquellos registros validados\n",
    "- `novalidos`: DataFrame que contiene el indice de los registros que no pasaron la validación junto a la justificación de su rechazo"
   ]
  },
  {
   "cell_type": "code",
   "execution_count": null,
   "metadata": {
    "application/vnd.databricks.v1+cell": {
     "cellMetadata": {
      "byteLimit": 2048000,
      "rowLimit": 10000
     },
     "inputWidgets": {},
     "nuid": "ab5ba9ba-b7a6-4891-a2fa-d93035a35c9f",
     "showTitle": false,
     "title": ""
    }
   },
   "outputs": [
    {
     "name": "stdout",
     "output_type": "stream",
     "text": [
      "MALLA DE VALIDACIÓN\n",
      "RESULTADOS MALLA DE VALIDACIÓN\n",
      "El número total de elementos validados fueron 304 participantes que equivale a 301 Hogares\n",
      "====================================================================================================\n",
      "El número total de participantes con valores correctos es 294 que equivale a 292 hogares\n",
      "====================================================================================================\n",
      "El número total de participantes con valores erroneos es 10 que equivale a 9 hogares\n"
     ]
    }
   ],
   "source": [
    "# Validación de Datos\n",
    "dataframe, validos, novalidos = validar_datos(id_encuesta, token, ruta)"
   ]
  },
  {
   "cell_type": "code",
   "execution_count": null,
   "metadata": {
    "application/vnd.databricks.v1+cell": {
     "cellMetadata": {
      "byteLimit": 2048000,
      "rowLimit": 10000
     },
     "inputWidgets": {},
     "nuid": "894bdce9-501b-494d-af4e-40ee91bfe24c",
     "showTitle": false,
     "title": ""
    }
   },
   "outputs": [
    {
     "data": {
      "text/html": [
       "<style scoped>\n",
       "  .table-result-container {\n",
       "    max-height: 300px;\n",
       "    overflow: auto;\n",
       "  }\n",
       "  table, th, td {\n",
       "    border: 1px solid black;\n",
       "    border-collapse: collapse;\n",
       "  }\n",
       "  th, td {\n",
       "    padding: 5px;\n",
       "  }\n",
       "  th {\n",
       "    text-align: left;\n",
       "  }\n",
       "</style><div class='table-result-container'><table class='table-result'><thead style='background-color: white'><tr><th>ID_HOGAR</th><th>NUM_TITULAR</th><th>NUM_DOC_INTEGRANTE</th><th>Validacion</th><th>Errores</th></tr></thead><tbody><tr><td>582507</td><td>3640739</td><td>3640739</td><td>0</td><td>NaN</td></tr><tr><td>582509</td><td>3969671</td><td>3969671</td><td>0</td><td>NaN</td></tr><tr><td>582510</td><td>8744587</td><td>8744587</td><td>0</td><td>NaN</td></tr><tr><td>582511</td><td>9146253</td><td>9146253</td><td>0</td><td>NaN</td></tr><tr><td>582512</td><td>11000579</td><td>11000579</td><td>0</td><td>NaN</td></tr><tr><td>582514</td><td>15241727</td><td>15241727</td><td>0</td><td>NaN</td></tr><tr><td>582515</td><td>15242678</td><td>15242678</td><td>0</td><td>NaN</td></tr><tr><td>582517</td><td>15243595</td><td>15243595</td><td>0</td><td>NaN</td></tr><tr><td>582519</td><td>18000929</td><td>18000929</td><td>0</td><td>NaN</td></tr><tr><td>582520</td><td>18002086</td><td>18002086</td><td>0</td><td>NaN</td></tr><tr><td>582522</td><td>18003016</td><td>18003016</td><td>0</td><td>NaN</td></tr><tr><td>582523</td><td>18003269</td><td>18003269</td><td>0</td><td>NaN</td></tr><tr><td>582524</td><td>18004545</td><td>18004545</td><td>0</td><td>NaN</td></tr><tr><td>582525</td><td>18008106</td><td>18008106</td><td>0</td><td>NaN</td></tr><tr><td>582526</td><td>18008519</td><td>18008519</td><td>0</td><td>NaN</td></tr><tr><td>582527</td><td>18008786</td><td>18008786</td><td>0</td><td>NaN</td></tr><tr><td>582528</td><td>18008990</td><td>18008990</td><td>0</td><td>NaN</td></tr><tr><td>582530</td><td>18010211</td><td>18010211</td><td>0</td><td>NaN</td></tr><tr><td>582531</td><td>18010655</td><td>18010655</td><td>0</td><td>NaN</td></tr><tr><td>582532</td><td>18010705</td><td>18010705</td><td>0</td><td>NaN</td></tr><tr><td>582533</td><td>18011376</td><td>18011376</td><td>0</td><td>NaN</td></tr><tr><td>582534</td><td>18011849</td><td>18011849</td><td>0</td><td>NaN</td></tr><tr><td>582535</td><td>19584987</td><td>19584987</td><td>0</td><td>NaN</td></tr><tr><td>582536</td><td>21576880</td><td>21576880</td><td>0</td><td>NaN</td></tr><tr><td>582537</td><td>22371264</td><td>22371264</td><td>0</td><td>NaN</td></tr><tr><td>582538</td><td>22486719</td><td>22486719</td><td>0</td><td>NaN</td></tr><tr><td>582539</td><td>22636445</td><td>22636445</td><td>0</td><td>NaN</td></tr><tr><td>582540</td><td>22656976</td><td>22656976</td><td>0</td><td>NaN</td></tr><tr><td>582541</td><td>22728436</td><td>22728436</td><td>0</td><td>NaN</td></tr><tr><td>582542</td><td>22781409</td><td>22781409</td><td>0</td><td>NaN</td></tr><tr><td>582543</td><td>22953884</td><td>22953884</td><td>0</td><td>NaN</td></tr><tr><td>582544</td><td>23191847</td><td>23191847</td><td>0</td><td>NaN</td></tr><tr><td>582545</td><td>23249059</td><td>23249059</td><td>0</td><td>NaN</td></tr><tr><td>582546</td><td>25842720</td><td>25842720</td><td>0</td><td>NaN</td></tr><tr><td>582547</td><td>25910046</td><td>25910046</td><td>0</td><td>NaN</td></tr><tr><td>582548</td><td>25956173</td><td>25956173</td><td>0</td><td>NaN</td></tr><tr><td>582549</td><td>26286330</td><td>26286330</td><td>0</td><td>NaN</td></tr><tr><td>582550</td><td>30647627</td><td>30647627</td><td>0</td><td>NaN</td></tr><tr><td>582551</td><td>30853848</td><td>30853848</td><td>0</td><td>NaN</td></tr><tr><td>582553</td><td>31587860</td><td>31587860</td><td>0</td><td>NaN</td></tr><tr><td>582554</td><td>31984165</td><td>31984165</td><td>0</td><td>NaN</td></tr><tr><td>582555</td><td>32750938</td><td>32750938</td><td>0</td><td>NaN</td></tr><tr><td>582556</td><td>32846906</td><td>32846906</td><td>0</td><td>NaN</td></tr><tr><td>582557</td><td>32936462</td><td>32936462</td><td>0</td><td>NaN</td></tr><tr><td>582558</td><td>33142962</td><td>33142962</td><td>0</td><td>NaN</td></tr><tr><td>582560</td><td>33156910</td><td>33156910</td><td>0</td><td>NaN</td></tr><tr><td>582561</td><td>39152259</td><td>39152259</td><td>0</td><td>NaN</td></tr><tr><td>582562</td><td>39152754</td><td>39152754</td><td>0</td><td>NaN</td></tr><tr><td>582564</td><td>39153284</td><td>39153284</td><td>0</td><td>NaN</td></tr><tr><td>582565</td><td>39153344</td><td>39153344</td><td>0</td><td>NaN</td></tr><tr><td>582566</td><td>39153474</td><td>39153474</td><td>0</td><td>NaN</td></tr><tr><td>582567</td><td>39153643</td><td>39153643</td><td>0</td><td>NaN</td></tr><tr><td>582568</td><td>39153734</td><td>39153734</td><td>0</td><td>NaN</td></tr><tr><td>582570</td><td>40985010</td><td>40985010</td><td>0</td><td>NaN</td></tr><tr><td>582571</td><td>40985015</td><td>40985015</td><td>0</td><td>NaN</td></tr><tr><td>582572</td><td>40985089</td><td>40985089</td><td>0</td><td>NaN</td></tr><tr><td>582573</td><td>40985387</td><td>40985387</td><td>0</td><td>NaN</td></tr><tr><td>582574</td><td>40985603</td><td>40985603</td><td>0</td><td>NaN</td></tr><tr><td>582575</td><td>40985843</td><td>40985843</td><td>0</td><td>NaN</td></tr><tr><td>582576</td><td>40985857</td><td>40985857</td><td>0</td><td>NaN</td></tr><tr><td>582577</td><td>40985991</td><td>40985991</td><td>0</td><td>NaN</td></tr><tr><td>582578</td><td>40986079</td><td>40986079</td><td>0</td><td>NaN</td></tr><tr><td>582579</td><td>40986721</td><td>40986721</td><td>0</td><td>NaN</td></tr><tr><td>582580</td><td>40986850</td><td>40986850</td><td>0</td><td>NaN</td></tr><tr><td>582581</td><td>40986863</td><td>40986863</td><td>0</td><td>NaN</td></tr><tr><td>582582</td><td>40986981</td><td>40986981</td><td>0</td><td>NaN</td></tr><tr><td>582583</td><td>40987112</td><td>40987112</td><td>0</td><td>NaN</td></tr><tr><td>582584</td><td>40987140</td><td>40987140</td><td>0</td><td>NaN</td></tr><tr><td>582586</td><td>40988028</td><td>40988028</td><td>0</td><td>NaN</td></tr><tr><td>582587</td><td>40988230</td><td>40988230</td><td>0</td><td>NaN</td></tr><tr><td>582588</td><td>40988286</td><td>40988286</td><td>0</td><td>NaN</td></tr><tr><td>582589</td><td>40988351</td><td>40988351</td><td>0</td><td>NaN</td></tr><tr><td>582590</td><td>40988380</td><td>40988380</td><td>0</td><td>NaN</td></tr><tr><td>582591</td><td>40988424</td><td>40988424</td><td>0</td><td>NaN</td></tr><tr><td>582592</td><td>40988548</td><td>40988548</td><td>0</td><td>NaN</td></tr><tr><td>582593</td><td>40988577</td><td>40988577</td><td>0</td><td>NaN</td></tr><tr><td>582594</td><td>40988716</td><td>40988716</td><td>0</td><td>NaN</td></tr><tr><td>582595</td><td>40988889</td><td>40988889</td><td>0</td><td>NaN</td></tr><tr><td>582596</td><td>40988911</td><td>40988911</td><td>0</td><td>NaN</td></tr><tr><td>582597</td><td>40989148</td><td>40989148</td><td>0</td><td>NaN</td></tr><tr><td>582598</td><td>40989596</td><td>40989596</td><td>0</td><td>NaN</td></tr><tr><td>582599</td><td>40989768</td><td>40989768</td><td>0</td><td>NaN</td></tr><tr><td>582600</td><td>40989868</td><td>40989868</td><td>0</td><td>NaN</td></tr><tr><td>582601</td><td>40989991</td><td>40989991</td><td>0</td><td>NaN</td></tr><tr><td>582603</td><td>40990303</td><td>40990303</td><td>0</td><td>NaN</td></tr><tr><td>582604</td><td>40990553</td><td>40990553</td><td>0</td><td>NaN</td></tr><tr><td>582605</td><td>40990596</td><td>40990596</td><td>0</td><td>NaN</td></tr><tr><td>582606</td><td>40990597</td><td>40990597</td><td>0</td><td>NaN</td></tr><tr><td>582607</td><td>40990649</td><td>40990649</td><td>0</td><td>NaN</td></tr><tr><td>582608</td><td>40990824</td><td>40990824</td><td>0</td><td>NaN</td></tr><tr><td>582609</td><td>40990925</td><td>40990925</td><td>0</td><td>NaN</td></tr><tr><td>582610</td><td>40991049</td><td>40991049</td><td>0</td><td>NaN</td></tr><tr><td>582611</td><td>40991317</td><td>40991317</td><td>0</td><td>NaN</td></tr><tr><td>582612</td><td>40991459</td><td>40991459</td><td>0</td><td>NaN</td></tr><tr><td>582614</td><td>40991626</td><td>40991626</td><td>0</td><td>NaN</td></tr><tr><td>582615</td><td>40991685</td><td>40991685</td><td>0</td><td>NaN</td></tr><tr><td>582616</td><td>40991779</td><td>40991779</td><td>0</td><td>NaN</td></tr><tr><td>582617</td><td>40991799</td><td>40991799</td><td>0</td><td>NaN</td></tr><tr><td>582618</td><td>40991957</td><td>40991957</td><td>0</td><td>NaN</td></tr><tr><td>582619</td><td>40992121</td><td>40992121</td><td>0</td><td>NaN</td></tr><tr><td>582620</td><td>40992167</td><td>40992167</td><td>0</td><td>NaN</td></tr><tr><td>582622</td><td>40992207</td><td>40992207</td><td>0</td><td>NaN</td></tr><tr><td>582624</td><td>40992283</td><td>40992283</td><td>0</td><td>NaN</td></tr><tr><td>582625</td><td>40992355</td><td>40992355</td><td>0</td><td>NaN</td></tr><tr><td>582626</td><td>40992380</td><td>40992380</td><td>0</td><td>NaN</td></tr><tr><td>582627</td><td>40992409</td><td>40992409</td><td>0</td><td>NaN</td></tr><tr><td>582628</td><td>40992502</td><td>40992502</td><td>0</td><td>NaN</td></tr><tr><td>582629</td><td>40992560</td><td>40992560</td><td>0</td><td>NaN</td></tr><tr><td>582630</td><td>40992598</td><td>40992598</td><td>0</td><td>NaN</td></tr><tr><td>582631</td><td>40992631</td><td>40992631</td><td>0</td><td>NaN</td></tr><tr><td>582632</td><td>40992695</td><td>40992695</td><td>0</td><td>NaN</td></tr><tr><td>582633</td><td>40992782</td><td>40992782</td><td>0</td><td>NaN</td></tr><tr><td>582634</td><td>40993063</td><td>40993063</td><td>0</td><td>NaN</td></tr><tr><td>582636</td><td>40993451</td><td>40993451</td><td>0</td><td>NaN</td></tr><tr><td>582637</td><td>40993492</td><td>40993492</td><td>0</td><td>NaN</td></tr><tr><td>582638</td><td>40993527</td><td>40993527</td><td>0</td><td>NaN</td></tr><tr><td>582639</td><td>40993560</td><td>40993560</td><td>0</td><td>NaN</td></tr><tr><td>582640</td><td>40993587</td><td>40993587</td><td>0</td><td>NaN</td></tr><tr><td>582641</td><td>40993622</td><td>40993622</td><td>0</td><td>NaN</td></tr><tr><td>582642</td><td>40993735</td><td>40993735</td><td>0</td><td>NaN</td></tr><tr><td>582643</td><td>40993740</td><td>40993740</td><td>0</td><td>NaN</td></tr><tr><td>582644</td><td>40993755</td><td>40993755</td><td>0</td><td>NaN</td></tr><tr><td>582645</td><td>40993856</td><td>40993856</td><td>0</td><td>NaN</td></tr><tr><td>582646</td><td>40993973</td><td>40993973</td><td>0</td><td>NaN</td></tr><tr><td>582647</td><td>40994093</td><td>40994093</td><td>0</td><td>NaN</td></tr><tr><td>582649</td><td>40994151</td><td>40994151</td><td>0</td><td>NaN</td></tr><tr><td>582650</td><td>40994163</td><td>40994163</td><td>0</td><td>NaN</td></tr><tr><td>582651</td><td>40994170</td><td>40994170</td><td>0</td><td>NaN</td></tr><tr><td>582652</td><td>40994243</td><td>40994243</td><td>0</td><td>NaN</td></tr><tr><td>582653</td><td>40994291</td><td>40994291</td><td>0</td><td>NaN</td></tr><tr><td>582653</td><td>40994291</td><td>1123621226</td><td>0</td><td>NaN</td></tr><tr><td>582655</td><td>40994370</td><td>40994370</td><td>0</td><td>NaN</td></tr><tr><td>582656</td><td>40994386</td><td>40994386</td><td>0</td><td>NaN</td></tr><tr><td>582657</td><td>40994514</td><td>40994514</td><td>0</td><td>NaN</td></tr><tr><td>582658</td><td>42366484</td><td>42366484</td><td>0</td><td>NaN</td></tr><tr><td>582660</td><td>43532376</td><td>43532376</td><td>0</td><td>NaN</td></tr><tr><td>582661</td><td>43746754</td><td>43746754</td><td>0</td><td>NaN</td></tr><tr><td>582662</td><td>45372954</td><td>45372954</td><td>0</td><td>NaN</td></tr><tr><td>582663</td><td>45435066</td><td>45435066</td><td>0</td><td>NaN</td></tr><tr><td>582664</td><td>45466076</td><td>45466076</td><td>0</td><td>NaN</td></tr><tr><td>582665</td><td>45472231</td><td>45472231</td><td>0</td><td>NaN</td></tr><tr><td>582666</td><td>45504086</td><td>45504086</td><td>0</td><td>NaN</td></tr><tr><td>582667</td><td>45758705</td><td>45758705</td><td>0</td><td>NaN</td></tr><tr><td>582668</td><td>45764865</td><td>45764865</td><td>0</td><td>NaN</td></tr><tr><td>582669</td><td>50977366</td><td>50977366</td><td>0</td><td>NaN</td></tr><tr><td>582670</td><td>51655628</td><td>51655628</td><td>0</td><td>NaN</td></tr><tr><td>582671</td><td>52262443</td><td>52262443</td><td>0</td><td>NaN</td></tr><tr><td>582673</td><td>71719371</td><td>71719371</td><td>0</td><td>NaN</td></tr><tr><td>582674</td><td>73115871</td><td>73115871</td><td>0</td><td>NaN</td></tr><tr><td>582675</td><td>73123001</td><td>73123001</td><td>0</td><td>NaN</td></tr><tr><td>582676</td><td>73188815</td><td>73188815</td><td>0</td><td>NaN</td></tr><tr><td>582678</td><td>1001978017</td><td>1001978017</td><td>0</td><td>NaN</td></tr><tr><td>582679</td><td>1003595397</td><td>1003595397</td><td>0</td><td>NaN</td></tr><tr><td>582680</td><td>1006868631</td><td>1006868631</td><td>0</td><td>NaN</td></tr><tr><td>582681</td><td>1006868931</td><td>1006868931</td><td>0</td><td>NaN</td></tr><tr><td>582682</td><td>1006868949</td><td>1006868949</td><td>0</td><td>NaN</td></tr><tr><td>582683</td><td>1006869547</td><td>1006869547</td><td>0</td><td>NaN</td></tr><tr><td>582684</td><td>1006869724</td><td>1006869724</td><td>0</td><td>NaN</td></tr><tr><td>582685</td><td>1006880250</td><td>1006880250</td><td>0</td><td>NaN</td></tr><tr><td>582686</td><td>1006880261</td><td>1006880261</td><td>0</td><td>NaN</td></tr><tr><td>582687</td><td>1006881174</td><td>1006881174</td><td>0</td><td>NaN</td></tr><tr><td>582688</td><td>1006881302</td><td>1006881302</td><td>0</td><td>NaN</td></tr><tr><td>582691</td><td>1007299646</td><td>1007299646</td><td>0</td><td>NaN</td></tr><tr><td>582692</td><td>1007318066</td><td>1007318066</td><td>0</td><td>NaN</td></tr><tr><td>582693</td><td>1007340257</td><td>1007340257</td><td>0</td><td>NaN</td></tr><tr><td>582694</td><td>1007433225</td><td>1007433225</td><td>0</td><td>NaN</td></tr><tr><td>582695</td><td>1007624945</td><td>1007624945</td><td>0</td><td>NaN</td></tr><tr><td>582696</td><td>1007781454</td><td>1007781454</td><td>0</td><td>NaN</td></tr><tr><td>582699</td><td>1010144900</td><td>1010144900</td><td>0</td><td>NaN</td></tr><tr><td>582700</td><td>1023903953</td><td>1023903953</td><td>0</td><td>NaN</td></tr><tr><td>582702</td><td>1037603100</td><td>1037603100</td><td>0</td><td>NaN</td></tr><tr><td>582703</td><td>1042972935</td><td>1042972935</td><td>0</td><td>NaN</td></tr><tr><td>582704</td><td>1045695894</td><td>1045695894</td><td>0</td><td>NaN</td></tr><tr><td>582705</td><td>1045721808</td><td>1045721808</td><td>0</td><td>NaN</td></tr><tr><td>582706</td><td>1045746980</td><td>1045746980</td><td>0</td><td>NaN</td></tr><tr><td>582707</td><td>1046274292</td><td>1046274292</td><td>0</td><td>NaN</td></tr><tr><td>582708</td><td>1047419777</td><td>1047419777</td><td>0</td><td>NaN</td></tr><tr><td>582709</td><td>1047426601</td><td>1047426601</td><td>0</td><td>NaN</td></tr><tr><td>582710</td><td>1047471690</td><td>1047471690</td><td>0</td><td>NaN</td></tr><tr><td>582711</td><td>1050959324</td><td>1050959324</td><td>0</td><td>NaN</td></tr><tr><td>582712</td><td>1123620342</td><td>1123620342</td><td>0</td><td>NaN</td></tr><tr><td>582714</td><td>1123620426</td><td>1123620426</td><td>0</td><td>NaN</td></tr><tr><td>582716</td><td>1123620942</td><td>1123620942</td><td>0</td><td>NaN</td></tr><tr><td>582717</td><td>1123621041</td><td>1123621041</td><td>0</td><td>NaN</td></tr><tr><td>582718</td><td>1123621741</td><td>1123621741</td><td>0</td><td>NaN</td></tr><tr><td>582719</td><td>1123621762</td><td>1123621762</td><td>0</td><td>NaN</td></tr><tr><td>582720</td><td>1123622042</td><td>1123622042</td><td>0</td><td>NaN</td></tr><tr><td>582721</td><td>1123622385</td><td>1123622385</td><td>0</td><td>NaN</td></tr><tr><td>582723</td><td>1123622524</td><td>1123622524</td><td>0</td><td>NaN</td></tr><tr><td>582725</td><td>1123622787</td><td>1123622787</td><td>0</td><td>NaN</td></tr><tr><td>582726</td><td>1123622821</td><td>1123622821</td><td>0</td><td>NaN</td></tr><tr><td>582727</td><td>1123623485</td><td>1123623485</td><td>0</td><td>NaN</td></tr><tr><td>582728</td><td>1123623740</td><td>1123623740</td><td>0</td><td>NaN</td></tr><tr><td>582729</td><td>1123624083</td><td>1123624083</td><td>0</td><td>NaN</td></tr><tr><td>582732</td><td>1123624626</td><td>1123624626</td><td>0</td><td>NaN</td></tr><tr><td>582733</td><td>1123625572</td><td>1123625572</td><td>0</td><td>NaN</td></tr><tr><td>582734</td><td>1123625611</td><td>1123625611</td><td>0</td><td>NaN</td></tr><tr><td>582735</td><td>1123626219</td><td>1123626219</td><td>0</td><td>NaN</td></tr><tr><td>582736</td><td>1123626400</td><td>1123626400</td><td>0</td><td>NaN</td></tr><tr><td>582737</td><td>1123626554</td><td>1123626554</td><td>0</td><td>NaN</td></tr><tr><td>582738</td><td>1123627053</td><td>1123627053</td><td>0</td><td>NaN</td></tr><tr><td>582739</td><td>1123627120</td><td>1123627120</td><td>0</td><td>NaN</td></tr><tr><td>582740</td><td>1123627203</td><td>1123627203</td><td>0</td><td>NaN</td></tr><tr><td>582741</td><td>1123627314</td><td>1123627314</td><td>0</td><td>NaN</td></tr><tr><td>582742</td><td>1123627315</td><td>1123627315</td><td>0</td><td>NaN</td></tr><tr><td>582743</td><td>1123628002</td><td>1123628002</td><td>0</td><td>NaN</td></tr><tr><td>582744</td><td>1123628401</td><td>1123628401</td><td>0</td><td>NaN</td></tr><tr><td>582745</td><td>1123628407</td><td>1123628407</td><td>0</td><td>NaN</td></tr><tr><td>582746</td><td>1123628983</td><td>1123628983</td><td>0</td><td>NaN</td></tr><tr><td>582747</td><td>1123629047</td><td>1123629047</td><td>0</td><td>NaN</td></tr><tr><td>582748</td><td>1123629512</td><td>1123629512</td><td>0</td><td>NaN</td></tr><tr><td>582749</td><td>1123629622</td><td>1123629622</td><td>0</td><td>NaN</td></tr><tr><td>582750</td><td>1123629667</td><td>1123629667</td><td>0</td><td>NaN</td></tr><tr><td>582751</td><td>1123629722</td><td>1123629722</td><td>0</td><td>NaN</td></tr><tr><td>582752</td><td>1123629901</td><td>1123629901</td><td>0</td><td>NaN</td></tr><tr><td>582753</td><td>1123629950</td><td>1123629950</td><td>0</td><td>NaN</td></tr><tr><td>582755</td><td>1123630005</td><td>1123630005</td><td>0</td><td>NaN</td></tr><tr><td>582756</td><td>1123630178</td><td>1123630178</td><td>0</td><td>NaN</td></tr><tr><td>582757</td><td>1123630301</td><td>1123630301</td><td>0</td><td>NaN</td></tr><tr><td>582758</td><td>1123630458</td><td>1123630458</td><td>0</td><td>NaN</td></tr><tr><td>582759</td><td>1123630470</td><td>1123630470</td><td>0</td><td>NaN</td></tr><tr><td>582760</td><td>1123630498</td><td>1123630498</td><td>0</td><td>NaN</td></tr><tr><td>582761</td><td>1123630799</td><td>1123630799</td><td>0</td><td>NaN</td></tr><tr><td>582762</td><td>1123630856</td><td>1123630856</td><td>0</td><td>NaN</td></tr><tr><td>582763</td><td>1123630892</td><td>1123630892</td><td>0</td><td>NaN</td></tr><tr><td>582764</td><td>1123630934</td><td>1123630934</td><td>0</td><td>NaN</td></tr><tr><td>582767</td><td>1123631435</td><td>1123631435</td><td>0</td><td>NaN</td></tr><tr><td>582769</td><td>1123631687</td><td>1123631687</td><td>0</td><td>NaN</td></tr><tr><td>582771</td><td>1123631978</td><td>1123631978</td><td>0</td><td>NaN</td></tr><tr><td>582772</td><td>1123632054</td><td>1123632054</td><td>0</td><td>NaN</td></tr><tr><td>582773</td><td>1123632148</td><td>1123632148</td><td>0</td><td>NaN</td></tr><tr><td>582774</td><td>1123632254</td><td>1123632254</td><td>0</td><td>NaN</td></tr><tr><td>582775</td><td>1123632316</td><td>1123632316</td><td>0</td><td>NaN</td></tr><tr><td>582776</td><td>1123632922</td><td>1123632922</td><td>0</td><td>NaN</td></tr><tr><td>582777</td><td>1123633064</td><td>1123633064</td><td>0</td><td>NaN</td></tr><tr><td>582778</td><td>1123633369</td><td>1123633369</td><td>0</td><td>NaN</td></tr><tr><td>582779</td><td>1123633514</td><td>1123633514</td><td>0</td><td>NaN</td></tr><tr><td>582780</td><td>1123633750</td><td>1123633750</td><td>0</td><td>NaN</td></tr><tr><td>582781</td><td>1123634039</td><td>1123634039</td><td>0</td><td>NaN</td></tr><tr><td>582784</td><td>1123634644</td><td>1123634644</td><td>0</td><td>NaN</td></tr><tr><td>582785</td><td>1123635519</td><td>1123635519</td><td>0</td><td>NaN</td></tr><tr><td>582786</td><td>1123635613</td><td>1123635613</td><td>0</td><td>NaN</td></tr><tr><td>582787</td><td>1123635735</td><td>1123635735</td><td>0</td><td>NaN</td></tr><tr><td>582788</td><td>1123635957</td><td>1123635957</td><td>0</td><td>NaN</td></tr><tr><td>582789</td><td>1123636058</td><td>1123636058</td><td>0</td><td>NaN</td></tr><tr><td>582791</td><td>1123636255</td><td>1123636255</td><td>0</td><td>NaN</td></tr><tr><td>582792</td><td>1123636647</td><td>1123636647</td><td>0</td><td>NaN</td></tr><tr><td>582793</td><td>1123636658</td><td>1123636658</td><td>0</td><td>NaN</td></tr><tr><td>582794</td><td>1123637362</td><td>1123632266</td><td>0</td><td>NaN</td></tr><tr><td>582794</td><td>1123637362</td><td>1123637362</td><td>0</td><td>NaN</td></tr><tr><td>582796</td><td>1123638575</td><td>1123638575</td><td>0</td><td>NaN</td></tr><tr><td>582797</td><td>1123638639</td><td>1123638639</td><td>0</td><td>NaN</td></tr><tr><td>582799</td><td>1123639848</td><td>1123639848</td><td>0</td><td>NaN</td></tr><tr><td>582800</td><td>1127599178</td><td>1127599178</td><td>0</td><td>NaN</td></tr><tr><td>582801</td><td>1140846719</td><td>1140846719</td><td>0</td><td>NaN</td></tr><tr><td>582802</td><td>1143330738</td><td>1143330738</td><td>0</td><td>NaN</td></tr><tr><td>582803</td><td>1143389090</td><td>1143389090</td><td>0</td><td>NaN</td></tr><tr><td>582804</td><td>1143859916</td><td>1143859916</td><td>0</td><td>NaN</td></tr><tr><td>582805</td><td>1148946724</td><td>1148946724</td><td>0</td><td>NaN</td></tr><tr><td>582806</td><td>1192758046</td><td>1192758046</td><td>0</td><td>NaN</td></tr><tr><td>597204</td><td>6890473</td><td>6890473</td><td>0</td><td>NaN</td></tr><tr><td>597205</td><td>12543599</td><td>12543599</td><td>0</td><td>NaN</td></tr><tr><td>597206</td><td>15240841</td><td>15240841</td><td>0</td><td>NaN</td></tr><tr><td>597207</td><td>18010784</td><td>18010784</td><td>0</td><td>NaN</td></tr><tr><td>597209</td><td>18011122</td><td>18011122</td><td>0</td><td>NaN</td></tr><tr><td>597210</td><td>22729962</td><td>22729962</td><td>0</td><td>NaN</td></tr><tr><td>597211</td><td>35892757</td><td>35892757</td><td>0</td><td>NaN</td></tr><tr><td>597212</td><td>45456827</td><td>45456827</td><td>0</td><td>NaN</td></tr><tr><td>597213</td><td>1123621546</td><td>1123621546</td><td>0</td><td>NaN</td></tr><tr><td>597214</td><td>1123624361</td><td>1123624361</td><td>0</td><td>NaN</td></tr><tr><td>597215</td><td>1123627133</td><td>1123627133</td><td>0</td><td>NaN</td></tr><tr><td>597216</td><td>1123635843</td><td>1123635843</td><td>0</td><td>NaN</td></tr><tr><td>597217</td><td>1143347165</td><td>1143347165</td><td>0</td><td>NaN</td></tr><tr><td>597218</td><td>18009833</td><td>18009833</td><td>0</td><td>NaN</td></tr><tr><td>597219</td><td>22143242</td><td>22143242</td><td>0</td><td>NaN</td></tr><tr><td>597221</td><td>40994133</td><td>40994133</td><td>0</td><td>NaN</td></tr><tr><td>597222</td><td>18012006</td><td>18012006</td><td>0</td><td>NaN</td></tr><tr><td>597223</td><td>40985965</td><td>40985965</td><td>0</td><td>NaN</td></tr><tr><td>597224</td><td>40986991</td><td>40986991</td><td>0</td><td>NaN</td></tr><tr><td>597225</td><td>40987017</td><td>40987017</td><td>0</td><td>NaN</td></tr><tr><td>597226</td><td>40993869</td><td>40993869</td><td>0</td><td>NaN</td></tr><tr><td>597227</td><td>45452398</td><td>45452398</td><td>0</td><td>NaN</td></tr><tr><td>597229</td><td>1123630315</td><td>1123630315</td><td>0</td><td>NaN</td></tr><tr><td>597232</td><td>1123625721</td><td>1123625721</td><td>0</td><td>NaN</td></tr><tr><td>597233</td><td>1123631606</td><td>1123631606</td><td>0</td><td>NaN</td></tr><tr><td>597234</td><td>39152654</td><td>39152654</td><td>0</td><td>NaN</td></tr><tr><td>597237</td><td>1123623235</td><td>1123623235</td><td>0</td><td>NaN</td></tr><tr><td>597240</td><td>18008732</td><td>18008732</td><td>0</td><td>NaN</td></tr><tr><td>597241</td><td>39154339</td><td>39154339</td><td>0</td><td>NaN</td></tr><tr><td>597242</td><td>40986693</td><td>40986693</td><td>0</td><td>NaN</td></tr><tr><td>597243</td><td>40992022</td><td>40992022</td><td>0</td><td>NaN</td></tr><tr><td>597244</td><td>78023148</td><td>78023148</td><td>0</td><td>NaN</td></tr><tr><td>597248</td><td>40990204</td><td>40990204</td><td>0</td><td>NaN</td></tr><tr><td>597253</td><td>1140872246</td><td>1140872246</td><td>0</td><td>NaN</td></tr></tbody></table></div>"
      ]
     },
     "metadata": {
      "application/vnd.databricks.v1+output": {
       "addedWidgets": {},
       "aggData": [],
       "aggError": "",
       "aggOverflow": false,
       "aggSchema": [],
       "aggSeriesLimitReached": false,
       "aggType": "",
       "arguments": {},
       "columnCustomDisplayInfos": {},
       "data": [
        [
         "582507",
         3640739,
         3640739,
         0,
         "NaN"
        ],
        [
         "582509",
         3969671,
         3969671,
         0,
         "NaN"
        ],
        [
         "582510",
         8744587,
         8744587,
         0,
         "NaN"
        ],
        [
         "582511",
         9146253,
         9146253,
         0,
         "NaN"
        ],
        [
         "582512",
         11000579,
         11000579,
         0,
         "NaN"
        ],
        [
         "582514",
         15241727,
         15241727,
         0,
         "NaN"
        ],
        [
         "582515",
         15242678,
         15242678,
         0,
         "NaN"
        ],
        [
         "582517",
         15243595,
         15243595,
         0,
         "NaN"
        ],
        [
         "582519",
         18000929,
         18000929,
         0,
         "NaN"
        ],
        [
         "582520",
         18002086,
         18002086,
         0,
         "NaN"
        ],
        [
         "582522",
         18003016,
         18003016,
         0,
         "NaN"
        ],
        [
         "582523",
         18003269,
         18003269,
         0,
         "NaN"
        ],
        [
         "582524",
         18004545,
         18004545,
         0,
         "NaN"
        ],
        [
         "582525",
         18008106,
         18008106,
         0,
         "NaN"
        ],
        [
         "582526",
         18008519,
         18008519,
         0,
         "NaN"
        ],
        [
         "582527",
         18008786,
         18008786,
         0,
         "NaN"
        ],
        [
         "582528",
         18008990,
         18008990,
         0,
         "NaN"
        ],
        [
         "582530",
         18010211,
         18010211,
         0,
         "NaN"
        ],
        [
         "582531",
         18010655,
         18010655,
         0,
         "NaN"
        ],
        [
         "582532",
         18010705,
         18010705,
         0,
         "NaN"
        ],
        [
         "582533",
         18011376,
         18011376,
         0,
         "NaN"
        ],
        [
         "582534",
         18011849,
         18011849,
         0,
         "NaN"
        ],
        [
         "582535",
         19584987,
         19584987,
         0,
         "NaN"
        ],
        [
         "582536",
         21576880,
         21576880,
         0,
         "NaN"
        ],
        [
         "582537",
         22371264,
         22371264,
         0,
         "NaN"
        ],
        [
         "582538",
         22486719,
         22486719,
         0,
         "NaN"
        ],
        [
         "582539",
         22636445,
         22636445,
         0,
         "NaN"
        ],
        [
         "582540",
         22656976,
         22656976,
         0,
         "NaN"
        ],
        [
         "582541",
         22728436,
         22728436,
         0,
         "NaN"
        ],
        [
         "582542",
         22781409,
         22781409,
         0,
         "NaN"
        ],
        [
         "582543",
         22953884,
         22953884,
         0,
         "NaN"
        ],
        [
         "582544",
         23191847,
         23191847,
         0,
         "NaN"
        ],
        [
         "582545",
         23249059,
         23249059,
         0,
         "NaN"
        ],
        [
         "582546",
         25842720,
         25842720,
         0,
         "NaN"
        ],
        [
         "582547",
         25910046,
         25910046,
         0,
         "NaN"
        ],
        [
         "582548",
         25956173,
         25956173,
         0,
         "NaN"
        ],
        [
         "582549",
         26286330,
         26286330,
         0,
         "NaN"
        ],
        [
         "582550",
         30647627,
         30647627,
         0,
         "NaN"
        ],
        [
         "582551",
         30853848,
         30853848,
         0,
         "NaN"
        ],
        [
         "582553",
         31587860,
         31587860,
         0,
         "NaN"
        ],
        [
         "582554",
         31984165,
         31984165,
         0,
         "NaN"
        ],
        [
         "582555",
         32750938,
         32750938,
         0,
         "NaN"
        ],
        [
         "582556",
         32846906,
         32846906,
         0,
         "NaN"
        ],
        [
         "582557",
         32936462,
         32936462,
         0,
         "NaN"
        ],
        [
         "582558",
         33142962,
         33142962,
         0,
         "NaN"
        ],
        [
         "582560",
         33156910,
         33156910,
         0,
         "NaN"
        ],
        [
         "582561",
         39152259,
         39152259,
         0,
         "NaN"
        ],
        [
         "582562",
         39152754,
         39152754,
         0,
         "NaN"
        ],
        [
         "582564",
         39153284,
         39153284,
         0,
         "NaN"
        ],
        [
         "582565",
         39153344,
         39153344,
         0,
         "NaN"
        ],
        [
         "582566",
         39153474,
         39153474,
         0,
         "NaN"
        ],
        [
         "582567",
         39153643,
         39153643,
         0,
         "NaN"
        ],
        [
         "582568",
         39153734,
         39153734,
         0,
         "NaN"
        ],
        [
         "582570",
         40985010,
         40985010,
         0,
         "NaN"
        ],
        [
         "582571",
         40985015,
         40985015,
         0,
         "NaN"
        ],
        [
         "582572",
         40985089,
         40985089,
         0,
         "NaN"
        ],
        [
         "582573",
         40985387,
         40985387,
         0,
         "NaN"
        ],
        [
         "582574",
         40985603,
         40985603,
         0,
         "NaN"
        ],
        [
         "582575",
         40985843,
         40985843,
         0,
         "NaN"
        ],
        [
         "582576",
         40985857,
         40985857,
         0,
         "NaN"
        ],
        [
         "582577",
         40985991,
         40985991,
         0,
         "NaN"
        ],
        [
         "582578",
         40986079,
         40986079,
         0,
         "NaN"
        ],
        [
         "582579",
         40986721,
         40986721,
         0,
         "NaN"
        ],
        [
         "582580",
         40986850,
         40986850,
         0,
         "NaN"
        ],
        [
         "582581",
         40986863,
         40986863,
         0,
         "NaN"
        ],
        [
         "582582",
         40986981,
         40986981,
         0,
         "NaN"
        ],
        [
         "582583",
         40987112,
         40987112,
         0,
         "NaN"
        ],
        [
         "582584",
         40987140,
         40987140,
         0,
         "NaN"
        ],
        [
         "582586",
         40988028,
         40988028,
         0,
         "NaN"
        ],
        [
         "582587",
         40988230,
         40988230,
         0,
         "NaN"
        ],
        [
         "582588",
         40988286,
         40988286,
         0,
         "NaN"
        ],
        [
         "582589",
         40988351,
         40988351,
         0,
         "NaN"
        ],
        [
         "582590",
         40988380,
         40988380,
         0,
         "NaN"
        ],
        [
         "582591",
         40988424,
         40988424,
         0,
         "NaN"
        ],
        [
         "582592",
         40988548,
         40988548,
         0,
         "NaN"
        ],
        [
         "582593",
         40988577,
         40988577,
         0,
         "NaN"
        ],
        [
         "582594",
         40988716,
         40988716,
         0,
         "NaN"
        ],
        [
         "582595",
         40988889,
         40988889,
         0,
         "NaN"
        ],
        [
         "582596",
         40988911,
         40988911,
         0,
         "NaN"
        ],
        [
         "582597",
         40989148,
         40989148,
         0,
         "NaN"
        ],
        [
         "582598",
         40989596,
         40989596,
         0,
         "NaN"
        ],
        [
         "582599",
         40989768,
         40989768,
         0,
         "NaN"
        ],
        [
         "582600",
         40989868,
         40989868,
         0,
         "NaN"
        ],
        [
         "582601",
         40989991,
         40989991,
         0,
         "NaN"
        ],
        [
         "582603",
         40990303,
         40990303,
         0,
         "NaN"
        ],
        [
         "582604",
         40990553,
         40990553,
         0,
         "NaN"
        ],
        [
         "582605",
         40990596,
         40990596,
         0,
         "NaN"
        ],
        [
         "582606",
         40990597,
         40990597,
         0,
         "NaN"
        ],
        [
         "582607",
         40990649,
         40990649,
         0,
         "NaN"
        ],
        [
         "582608",
         40990824,
         40990824,
         0,
         "NaN"
        ],
        [
         "582609",
         40990925,
         40990925,
         0,
         "NaN"
        ],
        [
         "582610",
         40991049,
         40991049,
         0,
         "NaN"
        ],
        [
         "582611",
         40991317,
         40991317,
         0,
         "NaN"
        ],
        [
         "582612",
         40991459,
         40991459,
         0,
         "NaN"
        ],
        [
         "582614",
         40991626,
         40991626,
         0,
         "NaN"
        ],
        [
         "582615",
         40991685,
         40991685,
         0,
         "NaN"
        ],
        [
         "582616",
         40991779,
         40991779,
         0,
         "NaN"
        ],
        [
         "582617",
         40991799,
         40991799,
         0,
         "NaN"
        ],
        [
         "582618",
         40991957,
         40991957,
         0,
         "NaN"
        ],
        [
         "582619",
         40992121,
         40992121,
         0,
         "NaN"
        ],
        [
         "582620",
         40992167,
         40992167,
         0,
         "NaN"
        ],
        [
         "582622",
         40992207,
         40992207,
         0,
         "NaN"
        ],
        [
         "582624",
         40992283,
         40992283,
         0,
         "NaN"
        ],
        [
         "582625",
         40992355,
         40992355,
         0,
         "NaN"
        ],
        [
         "582626",
         40992380,
         40992380,
         0,
         "NaN"
        ],
        [
         "582627",
         40992409,
         40992409,
         0,
         "NaN"
        ],
        [
         "582628",
         40992502,
         40992502,
         0,
         "NaN"
        ],
        [
         "582629",
         40992560,
         40992560,
         0,
         "NaN"
        ],
        [
         "582630",
         40992598,
         40992598,
         0,
         "NaN"
        ],
        [
         "582631",
         40992631,
         40992631,
         0,
         "NaN"
        ],
        [
         "582632",
         40992695,
         40992695,
         0,
         "NaN"
        ],
        [
         "582633",
         40992782,
         40992782,
         0,
         "NaN"
        ],
        [
         "582634",
         40993063,
         40993063,
         0,
         "NaN"
        ],
        [
         "582636",
         40993451,
         40993451,
         0,
         "NaN"
        ],
        [
         "582637",
         40993492,
         40993492,
         0,
         "NaN"
        ],
        [
         "582638",
         40993527,
         40993527,
         0,
         "NaN"
        ],
        [
         "582639",
         40993560,
         40993560,
         0,
         "NaN"
        ],
        [
         "582640",
         40993587,
         40993587,
         0,
         "NaN"
        ],
        [
         "582641",
         40993622,
         40993622,
         0,
         "NaN"
        ],
        [
         "582642",
         40993735,
         40993735,
         0,
         "NaN"
        ],
        [
         "582643",
         40993740,
         40993740,
         0,
         "NaN"
        ],
        [
         "582644",
         40993755,
         40993755,
         0,
         "NaN"
        ],
        [
         "582645",
         40993856,
         40993856,
         0,
         "NaN"
        ],
        [
         "582646",
         40993973,
         40993973,
         0,
         "NaN"
        ],
        [
         "582647",
         40994093,
         40994093,
         0,
         "NaN"
        ],
        [
         "582649",
         40994151,
         40994151,
         0,
         "NaN"
        ],
        [
         "582650",
         40994163,
         40994163,
         0,
         "NaN"
        ],
        [
         "582651",
         40994170,
         40994170,
         0,
         "NaN"
        ],
        [
         "582652",
         40994243,
         40994243,
         0,
         "NaN"
        ],
        [
         "582653",
         40994291,
         40994291,
         0,
         "NaN"
        ],
        [
         "582653",
         40994291,
         1123621226,
         0,
         "NaN"
        ],
        [
         "582655",
         40994370,
         40994370,
         0,
         "NaN"
        ],
        [
         "582656",
         40994386,
         40994386,
         0,
         "NaN"
        ],
        [
         "582657",
         40994514,
         40994514,
         0,
         "NaN"
        ],
        [
         "582658",
         42366484,
         42366484,
         0,
         "NaN"
        ],
        [
         "582660",
         43532376,
         43532376,
         0,
         "NaN"
        ],
        [
         "582661",
         43746754,
         43746754,
         0,
         "NaN"
        ],
        [
         "582662",
         45372954,
         45372954,
         0,
         "NaN"
        ],
        [
         "582663",
         45435066,
         45435066,
         0,
         "NaN"
        ],
        [
         "582664",
         45466076,
         45466076,
         0,
         "NaN"
        ],
        [
         "582665",
         45472231,
         45472231,
         0,
         "NaN"
        ],
        [
         "582666",
         45504086,
         45504086,
         0,
         "NaN"
        ],
        [
         "582667",
         45758705,
         45758705,
         0,
         "NaN"
        ],
        [
         "582668",
         45764865,
         45764865,
         0,
         "NaN"
        ],
        [
         "582669",
         50977366,
         50977366,
         0,
         "NaN"
        ],
        [
         "582670",
         51655628,
         51655628,
         0,
         "NaN"
        ],
        [
         "582671",
         52262443,
         52262443,
         0,
         "NaN"
        ],
        [
         "582673",
         71719371,
         71719371,
         0,
         "NaN"
        ],
        [
         "582674",
         73115871,
         73115871,
         0,
         "NaN"
        ],
        [
         "582675",
         73123001,
         73123001,
         0,
         "NaN"
        ],
        [
         "582676",
         73188815,
         73188815,
         0,
         "NaN"
        ],
        [
         "582678",
         1001978017,
         1001978017,
         0,
         "NaN"
        ],
        [
         "582679",
         1003595397,
         1003595397,
         0,
         "NaN"
        ],
        [
         "582680",
         1006868631,
         1006868631,
         0,
         "NaN"
        ],
        [
         "582681",
         1006868931,
         1006868931,
         0,
         "NaN"
        ],
        [
         "582682",
         1006868949,
         1006868949,
         0,
         "NaN"
        ],
        [
         "582683",
         1006869547,
         1006869547,
         0,
         "NaN"
        ],
        [
         "582684",
         1006869724,
         1006869724,
         0,
         "NaN"
        ],
        [
         "582685",
         1006880250,
         1006880250,
         0,
         "NaN"
        ],
        [
         "582686",
         1006880261,
         1006880261,
         0,
         "NaN"
        ],
        [
         "582687",
         1006881174,
         1006881174,
         0,
         "NaN"
        ],
        [
         "582688",
         1006881302,
         1006881302,
         0,
         "NaN"
        ],
        [
         "582691",
         1007299646,
         1007299646,
         0,
         "NaN"
        ],
        [
         "582692",
         1007318066,
         1007318066,
         0,
         "NaN"
        ],
        [
         "582693",
         1007340257,
         1007340257,
         0,
         "NaN"
        ],
        [
         "582694",
         1007433225,
         1007433225,
         0,
         "NaN"
        ],
        [
         "582695",
         1007624945,
         1007624945,
         0,
         "NaN"
        ],
        [
         "582696",
         1007781454,
         1007781454,
         0,
         "NaN"
        ],
        [
         "582699",
         1010144900,
         1010144900,
         0,
         "NaN"
        ],
        [
         "582700",
         1023903953,
         1023903953,
         0,
         "NaN"
        ],
        [
         "582702",
         1037603100,
         1037603100,
         0,
         "NaN"
        ],
        [
         "582703",
         1042972935,
         1042972935,
         0,
         "NaN"
        ],
        [
         "582704",
         1045695894,
         1045695894,
         0,
         "NaN"
        ],
        [
         "582705",
         1045721808,
         1045721808,
         0,
         "NaN"
        ],
        [
         "582706",
         1045746980,
         1045746980,
         0,
         "NaN"
        ],
        [
         "582707",
         1046274292,
         1046274292,
         0,
         "NaN"
        ],
        [
         "582708",
         1047419777,
         1047419777,
         0,
         "NaN"
        ],
        [
         "582709",
         1047426601,
         1047426601,
         0,
         "NaN"
        ],
        [
         "582710",
         1047471690,
         1047471690,
         0,
         "NaN"
        ],
        [
         "582711",
         1050959324,
         1050959324,
         0,
         "NaN"
        ],
        [
         "582712",
         1123620342,
         1123620342,
         0,
         "NaN"
        ],
        [
         "582714",
         1123620426,
         1123620426,
         0,
         "NaN"
        ],
        [
         "582716",
         1123620942,
         1123620942,
         0,
         "NaN"
        ],
        [
         "582717",
         1123621041,
         1123621041,
         0,
         "NaN"
        ],
        [
         "582718",
         1123621741,
         1123621741,
         0,
         "NaN"
        ],
        [
         "582719",
         1123621762,
         1123621762,
         0,
         "NaN"
        ],
        [
         "582720",
         1123622042,
         1123622042,
         0,
         "NaN"
        ],
        [
         "582721",
         1123622385,
         1123622385,
         0,
         "NaN"
        ],
        [
         "582723",
         1123622524,
         1123622524,
         0,
         "NaN"
        ],
        [
         "582725",
         1123622787,
         1123622787,
         0,
         "NaN"
        ],
        [
         "582726",
         1123622821,
         1123622821,
         0,
         "NaN"
        ],
        [
         "582727",
         1123623485,
         1123623485,
         0,
         "NaN"
        ],
        [
         "582728",
         1123623740,
         1123623740,
         0,
         "NaN"
        ],
        [
         "582729",
         1123624083,
         1123624083,
         0,
         "NaN"
        ],
        [
         "582732",
         1123624626,
         1123624626,
         0,
         "NaN"
        ],
        [
         "582733",
         1123625572,
         1123625572,
         0,
         "NaN"
        ],
        [
         "582734",
         1123625611,
         1123625611,
         0,
         "NaN"
        ],
        [
         "582735",
         1123626219,
         1123626219,
         0,
         "NaN"
        ],
        [
         "582736",
         1123626400,
         1123626400,
         0,
         "NaN"
        ],
        [
         "582737",
         1123626554,
         1123626554,
         0,
         "NaN"
        ],
        [
         "582738",
         1123627053,
         1123627053,
         0,
         "NaN"
        ],
        [
         "582739",
         1123627120,
         1123627120,
         0,
         "NaN"
        ],
        [
         "582740",
         1123627203,
         1123627203,
         0,
         "NaN"
        ],
        [
         "582741",
         1123627314,
         1123627314,
         0,
         "NaN"
        ],
        [
         "582742",
         1123627315,
         1123627315,
         0,
         "NaN"
        ],
        [
         "582743",
         1123628002,
         1123628002,
         0,
         "NaN"
        ],
        [
         "582744",
         1123628401,
         1123628401,
         0,
         "NaN"
        ],
        [
         "582745",
         1123628407,
         1123628407,
         0,
         "NaN"
        ],
        [
         "582746",
         1123628983,
         1123628983,
         0,
         "NaN"
        ],
        [
         "582747",
         1123629047,
         1123629047,
         0,
         "NaN"
        ],
        [
         "582748",
         1123629512,
         1123629512,
         0,
         "NaN"
        ],
        [
         "582749",
         1123629622,
         1123629622,
         0,
         "NaN"
        ],
        [
         "582750",
         1123629667,
         1123629667,
         0,
         "NaN"
        ],
        [
         "582751",
         1123629722,
         1123629722,
         0,
         "NaN"
        ],
        [
         "582752",
         1123629901,
         1123629901,
         0,
         "NaN"
        ],
        [
         "582753",
         1123629950,
         1123629950,
         0,
         "NaN"
        ],
        [
         "582755",
         1123630005,
         1123630005,
         0,
         "NaN"
        ],
        [
         "582756",
         1123630178,
         1123630178,
         0,
         "NaN"
        ],
        [
         "582757",
         1123630301,
         1123630301,
         0,
         "NaN"
        ],
        [
         "582758",
         1123630458,
         1123630458,
         0,
         "NaN"
        ],
        [
         "582759",
         1123630470,
         1123630470,
         0,
         "NaN"
        ],
        [
         "582760",
         1123630498,
         1123630498,
         0,
         "NaN"
        ],
        [
         "582761",
         1123630799,
         1123630799,
         0,
         "NaN"
        ],
        [
         "582762",
         1123630856,
         1123630856,
         0,
         "NaN"
        ],
        [
         "582763",
         1123630892,
         1123630892,
         0,
         "NaN"
        ],
        [
         "582764",
         1123630934,
         1123630934,
         0,
         "NaN"
        ],
        [
         "582767",
         1123631435,
         1123631435,
         0,
         "NaN"
        ],
        [
         "582769",
         1123631687,
         1123631687,
         0,
         "NaN"
        ],
        [
         "582771",
         1123631978,
         1123631978,
         0,
         "NaN"
        ],
        [
         "582772",
         1123632054,
         1123632054,
         0,
         "NaN"
        ],
        [
         "582773",
         1123632148,
         1123632148,
         0,
         "NaN"
        ],
        [
         "582774",
         1123632254,
         1123632254,
         0,
         "NaN"
        ],
        [
         "582775",
         1123632316,
         1123632316,
         0,
         "NaN"
        ],
        [
         "582776",
         1123632922,
         1123632922,
         0,
         "NaN"
        ],
        [
         "582777",
         1123633064,
         1123633064,
         0,
         "NaN"
        ],
        [
         "582778",
         1123633369,
         1123633369,
         0,
         "NaN"
        ],
        [
         "582779",
         1123633514,
         1123633514,
         0,
         "NaN"
        ],
        [
         "582780",
         1123633750,
         1123633750,
         0,
         "NaN"
        ],
        [
         "582781",
         1123634039,
         1123634039,
         0,
         "NaN"
        ],
        [
         "582784",
         1123634644,
         1123634644,
         0,
         "NaN"
        ],
        [
         "582785",
         1123635519,
         1123635519,
         0,
         "NaN"
        ],
        [
         "582786",
         1123635613,
         1123635613,
         0,
         "NaN"
        ],
        [
         "582787",
         1123635735,
         1123635735,
         0,
         "NaN"
        ],
        [
         "582788",
         1123635957,
         1123635957,
         0,
         "NaN"
        ],
        [
         "582789",
         1123636058,
         1123636058,
         0,
         "NaN"
        ],
        [
         "582791",
         1123636255,
         1123636255,
         0,
         "NaN"
        ],
        [
         "582792",
         1123636647,
         1123636647,
         0,
         "NaN"
        ],
        [
         "582793",
         1123636658,
         1123636658,
         0,
         "NaN"
        ],
        [
         "582794",
         1123637362,
         1123632266,
         0,
         "NaN"
        ],
        [
         "582794",
         1123637362,
         1123637362,
         0,
         "NaN"
        ],
        [
         "582796",
         1123638575,
         1123638575,
         0,
         "NaN"
        ],
        [
         "582797",
         1123638639,
         1123638639,
         0,
         "NaN"
        ],
        [
         "582799",
         1123639848,
         1123639848,
         0,
         "NaN"
        ],
        [
         "582800",
         1127599178,
         1127599178,
         0,
         "NaN"
        ],
        [
         "582801",
         1140846719,
         1140846719,
         0,
         "NaN"
        ],
        [
         "582802",
         1143330738,
         1143330738,
         0,
         "NaN"
        ],
        [
         "582803",
         1143389090,
         1143389090,
         0,
         "NaN"
        ],
        [
         "582804",
         1143859916,
         1143859916,
         0,
         "NaN"
        ],
        [
         "582805",
         1148946724,
         1148946724,
         0,
         "NaN"
        ],
        [
         "582806",
         1192758046,
         1192758046,
         0,
         "NaN"
        ],
        [
         "597204",
         6890473,
         6890473,
         0,
         "NaN"
        ],
        [
         "597205",
         12543599,
         12543599,
         0,
         "NaN"
        ],
        [
         "597206",
         15240841,
         15240841,
         0,
         "NaN"
        ],
        [
         "597207",
         18010784,
         18010784,
         0,
         "NaN"
        ],
        [
         "597209",
         18011122,
         18011122,
         0,
         "NaN"
        ],
        [
         "597210",
         22729962,
         22729962,
         0,
         "NaN"
        ],
        [
         "597211",
         35892757,
         35892757,
         0,
         "NaN"
        ],
        [
         "597212",
         45456827,
         45456827,
         0,
         "NaN"
        ],
        [
         "597213",
         1123621546,
         1123621546,
         0,
         "NaN"
        ],
        [
         "597214",
         1123624361,
         1123624361,
         0,
         "NaN"
        ],
        [
         "597215",
         1123627133,
         1123627133,
         0,
         "NaN"
        ],
        [
         "597216",
         1123635843,
         1123635843,
         0,
         "NaN"
        ],
        [
         "597217",
         1143347165,
         1143347165,
         0,
         "NaN"
        ],
        [
         "597218",
         18009833,
         18009833,
         0,
         "NaN"
        ],
        [
         "597219",
         22143242,
         22143242,
         0,
         "NaN"
        ],
        [
         "597221",
         40994133,
         40994133,
         0,
         "NaN"
        ],
        [
         "597222",
         18012006,
         18012006,
         0,
         "NaN"
        ],
        [
         "597223",
         40985965,
         40985965,
         0,
         "NaN"
        ],
        [
         "597224",
         40986991,
         40986991,
         0,
         "NaN"
        ],
        [
         "597225",
         40987017,
         40987017,
         0,
         "NaN"
        ],
        [
         "597226",
         40993869,
         40993869,
         0,
         "NaN"
        ],
        [
         "597227",
         45452398,
         45452398,
         0,
         "NaN"
        ],
        [
         "597229",
         1123630315,
         1123630315,
         0,
         "NaN"
        ],
        [
         "597232",
         1123625721,
         1123625721,
         0,
         "NaN"
        ],
        [
         "597233",
         1123631606,
         1123631606,
         0,
         "NaN"
        ],
        [
         "597234",
         39152654,
         39152654,
         0,
         "NaN"
        ],
        [
         "597237",
         1123623235,
         1123623235,
         0,
         "NaN"
        ],
        [
         "597240",
         18008732,
         18008732,
         0,
         "NaN"
        ],
        [
         "597241",
         39154339,
         39154339,
         0,
         "NaN"
        ],
        [
         "597242",
         40986693,
         40986693,
         0,
         "NaN"
        ],
        [
         "597243",
         40992022,
         40992022,
         0,
         "NaN"
        ],
        [
         "597244",
         78023148,
         78023148,
         0,
         "NaN"
        ],
        [
         "597248",
         40990204,
         40990204,
         0,
         "NaN"
        ],
        [
         "597253",
         1140872246,
         1140872246,
         0,
         "NaN"
        ]
       ],
       "datasetInfos": [],
       "dbfsResultPath": null,
       "isJsonSchema": true,
       "metadata": {},
       "overflow": false,
       "plotOptions": {
        "customPlotOptions": {},
        "displayType": "table",
        "pivotAggregation": null,
        "pivotColumns": null,
        "xColumns": null,
        "yColumns": null
       },
       "removedWidgets": [],
       "schema": [
        {
         "metadata": "{}",
         "name": "ID_HOGAR",
         "type": "\"string\""
        },
        {
         "metadata": "{}",
         "name": "NUM_TITULAR",
         "type": "\"long\""
        },
        {
         "metadata": "{}",
         "name": "NUM_DOC_INTEGRANTE",
         "type": "\"long\""
        },
        {
         "metadata": "{}",
         "name": "Validacion",
         "type": "\"long\""
        },
        {
         "metadata": "{}",
         "name": "Errores",
         "type": "\"double\""
        }
       ],
       "type": "table"
      }
     },
     "output_type": "display_data"
    }
   ],
   "source": [
    "# Visualización de Datos Validos\n",
    "display(validos)"
   ]
  },
  {
   "cell_type": "code",
   "execution_count": null,
   "metadata": {
    "application/vnd.databricks.v1+cell": {
     "cellMetadata": {
      "byteLimit": 2048000,
      "rowLimit": 10000
     },
     "inputWidgets": {},
     "nuid": "986103e2-c745-4157-ad26-fd369fb11696",
     "showTitle": false,
     "title": ""
    }
   },
   "outputs": [
    {
     "data": {
      "text/html": [
       "<style scoped>\n",
       "  .table-result-container {\n",
       "    max-height: 300px;\n",
       "    overflow: auto;\n",
       "  }\n",
       "  table, th, td {\n",
       "    border: 1px solid black;\n",
       "    border-collapse: collapse;\n",
       "  }\n",
       "  th, td {\n",
       "    padding: 5px;\n",
       "  }\n",
       "  th {\n",
       "    text-align: left;\n",
       "  }\n",
       "</style><div class='table-result-container'><table class='table-result'><thead style='background-color: white'><tr><th>ID_HOGAR</th><th>NUM_TITULAR</th><th>NUM_DOC_INTEGRANTE</th><th>Validacion</th><th>Errores</th></tr></thead><tbody><tr><td>582529</td><td>18009072</td><td>18009072</td><td>0</td><td>NaN</td></tr><tr><td>582529</td><td>18009072</td><td>18009072</td><td>1</td><td>Documento_Duplicado</td></tr><tr><td>582559</td><td>33145768</td><td>33145768</td><td>1</td><td>DIFICULTADACTIVIDAD.ind_discap_ninguna.Seleccionar</td></tr><tr><td>582654</td><td>40994306</td><td>40994306</td><td>1</td><td>DIFICULTADACTIVIDAD.ind_discap_ninguna.Seleccionar</td></tr><tr><td>582659</td><td>43086086</td><td>43086086</td><td>1</td><td>DIFICULTADACTIVIDAD.ind_discap_ninguna.Seleccionar</td></tr><tr><td>582689</td><td>1006881371</td><td>1006881371</td><td>1</td><td>vlr_ingr_salario_actividad_ppal</td></tr><tr><td>582715</td><td>1123620582</td><td>1123620582</td><td>1</td><td>TIPOS_BIENES_SERVICIOS</td></tr><tr><td>582731</td><td>1123624382</td><td>1123624382</td><td>1</td><td>vlr_ingr_salario_actividad_ppal</td></tr><tr><td>582765</td><td>1123631192</td><td>1123631192</td><td>1</td><td>TRASLADO_PRODUCTO/SERVICIO</td></tr><tr><td>597228</td><td>1006881152</td><td>1006881152</td><td>1</td><td>TRASLADO_PRODUCTO/SERVICIO</td></tr></tbody></table></div>"
      ]
     },
     "metadata": {
      "application/vnd.databricks.v1+output": {
       "addedWidgets": {},
       "aggData": [],
       "aggError": "",
       "aggOverflow": false,
       "aggSchema": [],
       "aggSeriesLimitReached": false,
       "aggType": "",
       "arguments": {},
       "columnCustomDisplayInfos": {},
       "data": [
        [
         "582529",
         18009072,
         18009072,
         0,
         "NaN"
        ],
        [
         "582529",
         18009072,
         18009072,
         1,
         "Documento_Duplicado"
        ],
        [
         "582559",
         33145768,
         33145768,
         1,
         "DIFICULTADACTIVIDAD.ind_discap_ninguna.Seleccionar"
        ],
        [
         "582654",
         40994306,
         40994306,
         1,
         "DIFICULTADACTIVIDAD.ind_discap_ninguna.Seleccionar"
        ],
        [
         "582659",
         43086086,
         43086086,
         1,
         "DIFICULTADACTIVIDAD.ind_discap_ninguna.Seleccionar"
        ],
        [
         "582689",
         1006881371,
         1006881371,
         1,
         "vlr_ingr_salario_actividad_ppal"
        ],
        [
         "582715",
         1123620582,
         1123620582,
         1,
         "TIPOS_BIENES_SERVICIOS"
        ],
        [
         "582731",
         1123624382,
         1123624382,
         1,
         "vlr_ingr_salario_actividad_ppal"
        ],
        [
         "582765",
         1123631192,
         1123631192,
         1,
         "TRASLADO_PRODUCTO/SERVICIO"
        ],
        [
         "597228",
         1006881152,
         1006881152,
         1,
         "TRASLADO_PRODUCTO/SERVICIO"
        ]
       ],
       "datasetInfos": [],
       "dbfsResultPath": null,
       "isJsonSchema": true,
       "metadata": {},
       "overflow": false,
       "plotOptions": {
        "customPlotOptions": {},
        "displayType": "table",
        "pivotAggregation": null,
        "pivotColumns": null,
        "xColumns": null,
        "yColumns": null
       },
       "removedWidgets": [],
       "schema": [
        {
         "metadata": "{}",
         "name": "ID_HOGAR",
         "type": "\"string\""
        },
        {
         "metadata": "{}",
         "name": "NUM_TITULAR",
         "type": "\"long\""
        },
        {
         "metadata": "{}",
         "name": "NUM_DOC_INTEGRANTE",
         "type": "\"long\""
        },
        {
         "metadata": "{}",
         "name": "Validacion",
         "type": "\"long\""
        },
        {
         "metadata": "{}",
         "name": "Errores",
         "type": "\"string\""
        }
       ],
       "type": "table"
      }
     },
     "output_type": "display_data"
    }
   ],
   "source": [
    "# Visualización de Datos no Validos\n",
    "display(novalidos)"
   ]
  },
  {
   "cell_type": "code",
   "execution_count": null,
   "metadata": {
    "application/vnd.databricks.v1+cell": {
     "cellMetadata": {},
     "inputWidgets": {},
     "nuid": "411cf813-fc94-43be-ac57-45539dadd381",
     "showTitle": false,
     "title": ""
    }
   },
   "outputs": [],
   "source": []
  }
 ],
 "metadata": {
  "application/vnd.databricks.v1+notebook": {
   "dashboards": [],
   "language": "python",
   "notebookMetadata": {
    "pythonIndentUnit": 2
   },
   "notebookName": "Guia Malla de Validacion",
   "widgets": {}
  },
  "language_info": {
   "name": "python"
  }
 },
 "nbformat": 4,
 "nbformat_minor": 0
}
